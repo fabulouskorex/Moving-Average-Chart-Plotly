{
 "cells": [
  {
   "cell_type": "markdown",
   "metadata": {},
   "source": [
    "This is an exercise in using Plotly as an alternative to plotting financial charts."
   ]
  },
  {
   "cell_type": "code",
   "execution_count": 143,
   "metadata": {},
   "outputs": [],
   "source": [
    "import plotly\n",
    "import plotly.plotly as py\n",
    "import plotly.graph_objs as go\n",
    "from plotly.offline import download_plotlyjs, init_notebook_mode, plot, iplot\n",
    "plotly.tools.set_credentials_file(username='username', api_key='key')\n",
    "\n",
    "import pandas_datareader as web\n",
    "import pandas as pd\n",
    "import datetime as dt\n",
    "import numpy as np"
   ]
  },
  {
   "cell_type": "code",
   "execution_count": 144,
   "metadata": {
    "scrolled": false
   },
   "outputs": [
    {
     "name": "stdout",
     "output_type": "stream",
     "text": [
      "          Date       High        Low       Open      Close    Volume  \\\n",
      "733 2018-10-18  77.570000  73.599998  76.190002  74.959999  15368000   \n",
      "734 2018-10-19  78.699997  74.010002  77.480003  74.070000  16924800   \n",
      "735 2018-10-22  76.349998  72.279999  74.800003  75.720001  15948000   \n",
      "736 2018-10-23  74.419998  71.550003  72.790001  74.150002  16838400   \n",
      "737 2018-10-24  75.209999  69.099998  74.070000  69.339996  15587857   \n",
      "\n",
      "     Adj Close  \n",
      "733  74.959999  \n",
      "734  74.070000  \n",
      "735  75.720001  \n",
      "736  74.150002  \n",
      "737  69.339996  \n",
      "High five! You successfully sent some data to your account on plotly. View your plot in your browser at https://plot.ly/~tedtran6/0 or inside your plot.ly account where it is named 'simple candlestick'\n"
     ]
    },
    {
     "data": {
      "text/html": [
       "<iframe id=\"igraph\" scrolling=\"no\" style=\"border:none;\" seamless=\"seamless\" src=\"https://plot.ly/~tedtran6/0.embed\" height=\"525px\" width=\"100%\"></iframe>"
      ],
      "text/plain": [
       "<plotly.tools.PlotlyDisplay object>"
      ]
     },
     "execution_count": 144,
     "metadata": {},
     "output_type": "execute_result"
    }
   ],
   "source": [
    "#Define your Start and End Dates\n",
    "start = dt.datetime(2013,8,15)\n",
    "end = dt.datetime(2018,10,24)\n",
    "\n",
    "#new data frame fetched from morningstar \n",
    "df = web.DataReader(\"sq\", 'yahoo', start, end).reset_index()\n",
    "print(df.tail())\n",
    "df2 = web.DataReader(\"msft\", 'yahoo', start, end).reset_index()\n",
    "\n",
    "trace = go.Candlestick(\n",
    "    x = df.Date,\n",
    "    open = df.Open,\n",
    "    high = df.High,\n",
    "    low = df.Low,\n",
    "    close = df.Close\n",
    ")\n",
    "\n",
    "trace2 = go.Scatter(\n",
    "    x = df2.Date,\n",
    "    y = df2.Close,\n",
    "    opacity = 0.6\n",
    ")\n",
    "\n",
    "data = [trace]\n",
    "py.iplot(data, filename = 'simple candlestick')  #displays the chart without the initial chart layout\n"
   ]
  },
  {
   "cell_type": "markdown",
   "metadata": {},
   "source": [
    "Plotting SQ and MSFT against eachother. One candlestick chart, and one line chart. "
   ]
  },
  {
   "cell_type": "code",
   "execution_count": 145,
   "metadata": {},
   "outputs": [],
   "source": [
    "chartLayout = go.Layout(\n",
    "    title = \"Price of SQ and MSFT\",\n",
    "    xaxis = dict(\n",
    "        title = \"Time\",\n",
    "        rangeslider = dict(visible = False)\n",
    "    ),\n",
    "    yaxis = dict(title = \"Price ($)\")\n",
    ")"
   ]
  },
  {
   "cell_type": "code",
   "execution_count": 146,
   "metadata": {
    "scrolled": false
   },
   "outputs": [
    {
     "data": {
      "text/html": [
       "<iframe id=\"igraph\" scrolling=\"no\" style=\"border:none;\" seamless=\"seamless\" src=\"https://plot.ly/~tedtran6/60.embed\" height=\"525px\" width=\"100%\"></iframe>"
      ],
      "text/plain": [
       "<plotly.tools.PlotlyDisplay object>"
      ]
     },
     "execution_count": 146,
     "metadata": {},
     "output_type": "execute_result"
    }
   ],
   "source": [
    "#displaying the new chart without the bottom slider\n",
    "data = [trace, trace2]\n",
    "figure = go.Figure(data = data, layout = chartLayout)\n",
    "py.iplot(figure, filename = \"1\")"
   ]
  },
  {
   "cell_type": "markdown",
   "metadata": {},
   "source": [
    "### 100 moving average\n",
    "this is made from a rolling moving average. Which means it takes the most recent 100 and it calculates the average of those. \n",
    "\n",
    "https://www.investopedia.com/terms/d/deathcross.asp\n"
   ]
  },
  {
   "cell_type": "code",
   "execution_count": 147,
   "metadata": {},
   "outputs": [
    {
     "name": "stdout",
     "output_type": "stream",
     "text": [
      "           Date        High         Low        Open       Close      Volume  \\\n",
      "1304 2018-10-18  219.740005  213.000000  217.860001  216.020004  32581300.0   \n",
      "1305 2018-10-19  221.259995  217.429993  218.059998  219.309998  33078700.0   \n",
      "1306 2018-10-22  223.360001  218.940002  219.789993  220.649994  28792100.0   \n",
      "1307 2018-10-23  223.250000  214.699997  215.830002  222.729996  38616200.0   \n",
      "1308 2018-10-24  224.229996  214.550003  222.600006  215.089996  36441623.0   \n",
      "\n",
      "       Adj Close      h100ma       h50ma  \n",
      "1304  216.020004  205.453063  220.129801  \n",
      "1305  219.309998  205.777716  220.353001  \n",
      "1306  220.649994  206.122047  220.615401  \n",
      "1307  222.729996  206.453595  220.892601  \n",
      "1308  215.089996  206.692899  220.999401  \n"
     ]
    },
    {
     "data": {
      "text/html": [
       "<iframe id=\"igraph\" scrolling=\"no\" style=\"border:none;\" seamless=\"seamless\" src=\"https://plot.ly/~tedtran6/74.embed\" height=\"525px\" width=\"100%\"></iframe>"
      ],
      "text/plain": [
       "<plotly.tools.PlotlyDisplay object>"
      ]
     },
     "execution_count": 147,
     "metadata": {},
     "output_type": "execute_result"
    }
   ],
   "source": [
    "df3 = web.DataReader(\"aapl\", 'yahoo', start, end).reset_index()   #not completely sure why reset index is important, but it is\n",
    "#pandas rolling method\n",
    "df3[\"h100ma\"] = df3[\"Adj Close\"].rolling(window=100).mean()\n",
    "df3[\"h50ma\"] = df3[\"Adj Close\"].rolling(window=50).mean()\n",
    "print(df3.tail())\n",
    "\n",
    "aapl_trace = go.Candlestick(\n",
    "    name = \"AAPL\",\n",
    "    x = df3.Date,\n",
    "    open = df3.Open,\n",
    "    high = df3.High,\n",
    "    low = df3.Low,\n",
    "    close = df3.Close\n",
    ")\n",
    "\n",
    "aapl_100ma = go.Scatter(\n",
    "    name = \"100ma of AAPL\",\n",
    "    x = df3.Date,\n",
    "    y = df3.h100ma,\n",
    "    line = dict(color = \"#17BECF\"),\n",
    "    opacity = 0.6\n",
    ")\n",
    "\n",
    "aapl_50ma = go.Scatter(\n",
    "    name = \"50ma of AAPL\",\n",
    "    x = df3.Date,\n",
    "    y = df3.h50ma,\n",
    "    line = dict(color = \"#b942f4\"),\n",
    "    opacity = 0.6\n",
    ")\n",
    "\n",
    "layout = go.Layout(\n",
    "    title = \"Price of AAPL with 50 & 100 moving Average\",\n",
    "    xaxis = dict(title = \"Time\"),\n",
    "    yaxis = dict(title = \"Price ($)\")\n",
    ")\n",
    "\n",
    "data = [aapl_trace, aapl_100ma, aapl_50ma]\n",
    "figure = go.Figure(data = data, layout = layout)\n",
    "py.iplot(figure)"
   ]
  },
  {
   "cell_type": "markdown",
   "metadata": {},
   "source": [
    "Only plots where the shorter MA is bigger than the longer MA"
   ]
  },
  {
   "cell_type": "code",
   "execution_count": 148,
   "metadata": {},
   "outputs": [
    {
     "data": {
      "text/html": [
       "<iframe id=\"igraph\" scrolling=\"no\" style=\"border:none;\" seamless=\"seamless\" src=\"https://plot.ly/~tedtran6/76.embed\" height=\"525px\" width=\"100%\"></iframe>"
      ],
      "text/plain": [
       "<plotly.tools.PlotlyDisplay object>"
      ]
     },
     "execution_count": 148,
     "metadata": {},
     "output_type": "execute_result"
    }
   ],
   "source": [
    "#df3[\"h100ma\"] = df3[\"Adj Close\"].rolling(window=100).mean()\n",
    "#df3[\"h50ma\"] = df3[\"Adj Close\"].rolling(window=50).mean()\n",
    "\n",
    "df3[\"shorterBigger\"] = np.where(df3[\"h100ma\"] <df3[\"h50ma\"], df3[\"h100ma\"], np.nan)\n",
    "\n",
    "df3NewClose = pd.DataFrame()   #creates an empty dataframe, and then populates it\n",
    "df3NewClose[\"Date\"] = df3[\"Date\"]\n",
    "df3NewClose[\"Open\"] =  np.where(df3[\"h100ma\"] <df3[\"h50ma\"], df3[\"Open\"], np.nan)\n",
    "df3NewClose[\"High\"] =  np.where(df3[\"h100ma\"] <df3[\"h50ma\"], df3[\"High\"], np.nan)\n",
    "df3NewClose[\"Low\"] =  np.where(df3[\"h100ma\"] <df3[\"h50ma\"], df3[\"Low\"], np.nan)\n",
    "df3NewClose[\"Close\"] =  np.where(df3[\"h100ma\"] <df3[\"h50ma\"], df3[\"Close\"], np.nan)\n",
    "\n",
    "\n",
    "\n",
    "aapl_new_trace = go.Candlestick(\n",
    "    name = \"AAPL\",\n",
    "    x = df3NewClose.Date,\n",
    "    open = df3NewClose.Open,\n",
    "    high = df3NewClose.High,\n",
    "    low = df3NewClose.Low,\n",
    "    close = df3NewClose.Close\n",
    ")\n",
    "\n",
    "aapl_shorter = go.Scatter(\n",
    "    name = \"shorter ma bigger\",\n",
    "    x = df3.Date,\n",
    "    y = df3.shorterBigger,\n",
    "    line = dict(color = \"#b942f4\"),\n",
    "    opacity = 0.6\n",
    ")\n",
    "\n",
    "layout = go.Layout(\n",
    "    title = \"Price of AAPL only when the 50ma > 100ma\",\n",
    "    xaxis = dict(\n",
    "        title = \"Time\",\n",
    "        rangeslider = dict(visible = False)\n",
    "    ),\n",
    "    yaxis = dict(title = \"Price ($)\")\n",
    ")\n",
    "\n",
    "data = [aapl_new_trace, aapl_shorter]\n",
    "figure = go.Figure(data = data, layout = layout)\n",
    "py.iplot(figure)"
   ]
  },
  {
   "cell_type": "code",
   "execution_count": 152,
   "metadata": {},
   "outputs": [
    {
     "name": "stderr",
     "output_type": "stream",
     "text": [
      "C:\\Users\\Ted\\Anaconda3\\lib\\site-packages\\pandas\\core\\indexing.py:189: SettingWithCopyWarning:\n",
      "\n",
      "\n",
      "A value is trying to be set on a copy of a slice from a DataFrame\n",
      "\n",
      "See the caveats in the documentation: http://pandas.pydata.org/pandas-docs/stable/indexing.html#indexing-view-versus-copy\n",
      "\n"
     ]
    },
    {
     "data": {
      "text/html": [
       "<iframe id=\"igraph\" scrolling=\"no\" style=\"border:none;\" seamless=\"seamless\" src=\"https://plot.ly/~tedtran6/72.embed\" height=\"525px\" width=\"100%\"></iframe>"
      ],
      "text/plain": [
       "<plotly.tools.PlotlyDisplay object>"
      ]
     },
     "execution_count": 152,
     "metadata": {},
     "output_type": "execute_result"
    }
   ],
   "source": [
    "df4 = web.DataReader(\"aapl\", 'yahoo', start, end).reset_index()\n",
    "df4[\"h100ma\"] = df4[\"Adj Close\"].rolling(window=100).mean()\n",
    "df4[\"h50ma\"] = df4[\"Adj Close\"].rolling(window=50).mean()\n",
    "\n",
    "df4[\"ones\"] = np.nan\n",
    "\n",
    "#df.iloc[index]\n",
    "i = 0\n",
    "truth = True\n",
    "while i < len(df4.index):\n",
    "    if(df4[\"h100ma\"].iloc[i] < df4[\"h50ma\"].iloc[i] and truth):\n",
    "        df4[\"ones\"].iloc[i] = df4[\"Close\"].iloc[i]\n",
    "        truth = False\n",
    "    \n",
    "    if(df4[\"h100ma\"].iloc[i] > df4[\"h50ma\"].iloc[i] and truth == False):\n",
    "        df4[\"ones\"].iloc[i] = df4[\"Close\"].iloc[i]\n",
    "        truth = True\n",
    "        \n",
    "    i = i+1\n",
    "end\n",
    "\n",
    "intersectTrace = go.Scatter(\n",
    "    name = \"crossover points\",\n",
    "    x = df4.Date,\n",
    "    y = df4.ones,\n",
    "    mode = 'markers',\n",
    "    marker = dict(\n",
    "        size = 10\n",
    "    ),\n",
    "    opacity = 0.7\n",
    ")\n",
    "\n",
    "#for i in df4[\"ones\"]:\n",
    "#    if df4[\"h100ma\"].\n",
    "\n",
    "layout = go.Layout(\n",
    "    title = \"Price of AAPL, with indicators where 50ma crosses 100ma\",\n",
    "    xaxis = dict(\n",
    "        title = \"Time\",\n",
    "        rangeslider = dict(visible = False)\n",
    "    ),\n",
    "    yaxis = dict(title = \"Price ($)\")\n",
    ")\n",
    "\n",
    "data = [aapl_trace, intersectTrace]\n",
    "figure = go.Figure(data = data, layout = layout)\n",
    "py.iplot(figure, filename = 'intersect')"
   ]
  },
  {
   "cell_type": "code",
   "execution_count": 171,
   "metadata": {},
   "outputs": [
    {
     "name": "stderr",
     "output_type": "stream",
     "text": [
      "C:\\Users\\Ted\\Anaconda3\\lib\\site-packages\\pandas\\core\\indexing.py:189: SettingWithCopyWarning:\n",
      "\n",
      "\n",
      "A value is trying to be set on a copy of a slice from a DataFrame\n",
      "\n",
      "See the caveats in the documentation: http://pandas.pydata.org/pandas-docs/stable/indexing.html#indexing-view-versus-copy\n",
      "\n"
     ]
    },
    {
     "name": "stdout",
     "output_type": "stream",
     "text": [
      "1890.1824782258807\n",
      "6\n"
     ]
    }
   ],
   "source": [
    "portfolio = pd.DataFrame()\n",
    "portfolio[\"Date\"] = df4[\"Date\"]\n",
    "portfolio[\"Value\"] = 0\n",
    "portfolio[\"Shares\"] = 0\n",
    "\n",
    "i = 0\n",
    "cash = 1000\n",
    "shares = 0\n",
    "truth = True\n",
    "timesBought = 0\n",
    "timesSold = 0\n",
    "\n",
    "while i < len(portfolio.index):    \n",
    "    if(df4[\"h100ma\"].iloc[i] < df4[\"h50ma\"].iloc[i] and truth):\n",
    "        shares = cash/df4[\"Close\"].iloc[i]\n",
    "        cash = 0\n",
    "        timesBought += 1\n",
    "        truth = False\n",
    "    \n",
    "    if(df4[\"h100ma\"].iloc[i] > df4[\"h50ma\"].iloc[i] and truth == False):\n",
    "        cash = shares * df4[\"Close\"].iloc[i]\n",
    "        shares = 0\n",
    "        timesSold += 1\n",
    "        truth = True\n",
    "        \n",
    "    portfolio[\"Value\"].iloc[i] = cash + shares * df4[\"Close\"].iloc[i]\n",
    "        \n",
    "    i = i+1\n",
    "end\n",
    "\n",
    "if truth == False:\n",
    "    cash = shares * df4[\"Close\"].iloc[i-1]\n",
    "    shares = 0\n",
    "\n",
    "print(cash)\n",
    "print(timesBought)"
   ]
  },
  {
   "cell_type": "code",
   "execution_count": 216,
   "metadata": {},
   "outputs": [
    {
     "data": {
      "text/html": [
       "<iframe id=\"igraph\" scrolling=\"no\" style=\"border:none;\" seamless=\"seamless\" src=\"https://plot.ly/~tedtran6/84.embed\" height=\"525px\" width=\"100%\"></iframe>"
      ],
      "text/plain": [
       "<plotly.tools.PlotlyDisplay object>"
      ]
     },
     "execution_count": 216,
     "metadata": {},
     "output_type": "execute_result"
    }
   ],
   "source": [
    "returns = go.Scatter(\n",
    "    name = \"MA Crossover Strategy\",\n",
    "    x = portfolio.Date,\n",
    "    y = portfolio.Value,\n",
    "    line = dict(color = \"#ff425b\"),\n",
    "    stackgroup = \"one\"\n",
    ")\n",
    "\n",
    "buyAndHold = go.Scatter(\n",
    "    name = \"Buy and Hold Strategy\",\n",
    "    x = df4.Date,\n",
    "    y = 14.10437 * df4.Close,\n",
    "    line = dict(color = \"#7eb8fc\"),\n",
    "    stackgroup = \"two\",\n",
    "    opacity = 0.6\n",
    ")\n",
    "#print(portfolio.Value)\n",
    "\n",
    "layout = go.Layout(\n",
    "    title = \"Returns on Different Strategies\",\n",
    "    xaxis = dict(title = \"Time\"),\n",
    "    yaxis = dict(title = \"Portfolio Value ($)\")\n",
    ")\n",
    "\n",
    "data = [returns, buyAndHold]\n",
    "figure = go.Figure(data = data, layout = layout)\n",
    "py.iplot(figure, filename = \"returns\")"
   ]
  },
  {
   "cell_type": "code",
   "execution_count": null,
   "metadata": {},
   "outputs": [],
   "source": []
  }
 ],
 "metadata": {
  "kernelspec": {
   "display_name": "Python 3",
   "language": "python",
   "name": "python3"
  },
  "language_info": {
   "codemirror_mode": {
    "name": "ipython",
    "version": 3
   },
   "file_extension": ".py",
   "mimetype": "text/x-python",
   "name": "python",
   "nbconvert_exporter": "python",
   "pygments_lexer": "ipython3",
   "version": "3.7.0"
  }
 },
 "nbformat": 4,
 "nbformat_minor": 2
}
